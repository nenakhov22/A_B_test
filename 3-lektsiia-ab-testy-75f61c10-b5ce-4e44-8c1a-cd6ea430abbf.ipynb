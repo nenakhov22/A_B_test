{
 "cells": [
  {
   "cell_type": "code",
   "execution_count": 6,
   "id": "db355866",
   "metadata": {},
   "outputs": [],
   "source": [
    "import pandas as pd\n",
    "import numpy as np\n",
    "import seaborn as sns\n",
    "import matplotlib.pyplot as plt\n",
    "import scipy.stats as stats"
   ]
  },
  {
   "cell_type": "markdown",
   "id": "85c6faf0",
   "metadata": {},
   "source": [
    "#  Этапы проверки статистической гипотезы\n",
    "* Формулирование нулевой и альтернативной гипотезы;\n",
    "* Выбор статистического критерия\n",
    "* Определение уровня значимости;\n",
    "* Расчет статистики критерия и/или p - value;\n",
    "* Интепретация результатов"
   ]
  },
  {
   "cell_type": "markdown",
   "id": "82cacf07",
   "metadata": {},
   "source": [
    "#  Проверки гипотез "
   ]
  },
  {
   "cell_type": "markdown",
   "id": "2db3a948",
   "metadata": {},
   "source": [
    "## t-критерий Стьюдента для несвязных выборок"
   ]
  },
  {
   "cell_type": "markdown",
   "id": "2849183a",
   "metadata": {},
   "source": [
    "![st](https://i.pinimg.com/originals/38/39/58/383958ca7ad8b647440bf3921ac2b6ad.png)"
   ]
  },
  {
   "cell_type": "markdown",
   "id": "b0bef048",
   "metadata": {},
   "source": [
    "В то время как нормальное распределение полностью описывается двумя параметрами — средним значением и стандартным отклонением, <span class=\"birk\">t-распределение</span> описывается лишь одним параметром, так называемыми <span class=\"burk\">степенями свободы</span>. \n",
    "\n",
    "Чем больше степеней свободы, тем больше t-распределение похоже на нормальное распределение с нулевым средним и стандартным отклонением, равным 1. По мере уменьшения степеней свободы, это распределение становится более широким с более толстыми чем у нормального распределения, хвостами. \n",
    "\n",
    "Более толстые хвосты для выборок меньших размеров соответствуют увеличенной возможности наблюдать более крупные отклонения от среднего значения."
   ]
  },
  {
   "cell_type": "markdown",
   "id": "8f443e79",
   "metadata": {},
   "source": [
    "![im](https://wiki.loginom.ru/images/t-distrib.svg)"
   ]
  },
  {
   "cell_type": "markdown",
   "id": "e66befcc",
   "metadata": {},
   "source": [
    "Критерий Стьюдента для расчета значения статистики критерия оперирует таким понятием как степени свободы."
   ]
  },
  {
   "cell_type": "markdown",
   "id": "f6763a06",
   "metadata": {},
   "source": [
    "***Число степений свободы*** - это число свободно варьирующихся элементов в составе выборки. То есть число элементов, через которое мы можем выразить выбранное из ряда значение, зная объем выборки и среднее.\n",
    "* Например: у нас есть ряд a = 2,4,6,8,10. Его среднее арифметическое = 6. Количество элементов = 5. Любой элемент может быть выражен через выражение: *n * a_среднее - sum(a)*.\n",
    "\n",
    "Проверим:\n",
    "выразим последний элемент,равный 10 через среднее и все остальные элементы: *6 * 5 - 2 + 4 + 6 + 8 = 30 - 20 = 10*\n",
    "\n",
    "Но если бы вым сказали, что есть 3 числа, среднее которых равно 10, и одно из них 10, то вам бы не удалось точно восстановить 3 числа, потому что кол-во вариантов беконечно. Таким образом, надо было знать 2 числа.\n",
    "\n",
    "Таким образом, количество степеней свободы  - количество чисел, которые мы имеем, чтобы выразить любой элемент через его среднее.\n",
    "По классике обозначается как: ***Размер выборки - 1*** "
   ]
  },
  {
   "cell_type": "markdown",
   "id": "344fd8da",
   "metadata": {},
   "source": [
    "<span class=\"burk\">Тест</span>\n",
    "\n",
    "<!-- Пусть мы  провели тест в ходе которого для одной группы пользователей мы выводили доступные для применения офферы на КБ, а для другой нет. В качестве метрики мы выбрали среднюю конверсию в покупку. Данные сгенерированы, но близки к реальности)\n",
    " -->\n",
    "\n",
    "<!-- Пусть у нас есть интернет магазин. Мы провели тест в ходе которого одной группе пользовавтелей мы слали пуш с самыми выгодными товарами и сообщениями о скидках, а другой группе пользователей не слали ничего. После теста нам нужно посмотреть, было ли это выгодно. В качестве метрики мы взяли кол-во покупок клиента \n",
    " -->\n",
    "Пусть у нас есть интернет магазин. Но аудитория нашего интернет магазина не очень взрослая, у людей не так много денег. Поэтому мы захотели провести акцию с целью привлечения более взрослого населения.\n",
    "\n",
    "После акции мы хотим проверить, насколько она была эффективной. \n",
    "* ***Полученные данные***"
   ]
  },
  {
   "cell_type": "code",
   "execution_count": 7,
   "id": "f3dfb272",
   "metadata": {},
   "outputs": [],
   "source": [
    "age_n = np.random.normal(25, 2, 10000)\n",
    "age_n1 = np.random.normal(40, 5,10000)"
   ]
  },
  {
   "cell_type": "code",
   "execution_count": 8,
   "id": "212f90f7",
   "metadata": {},
   "outputs": [
    {
     "name": "stderr",
     "output_type": "stream",
     "text": [
      "C:\\Users\\m.pashentseva\\Anaconda3\\lib\\site-packages\\seaborn\\distributions.py:2557: FutureWarning: `distplot` is a deprecated function and will be removed in a future version. Please adapt your code to use either `displot` (a figure-level function with similar flexibility) or `histplot` (an axes-level function for histograms).\n",
      "  warnings.warn(msg, FutureWarning)\n"
     ]
    },
    {
     "data": {
      "text/plain": [
       "Text(0.5, 1.0, 'test')"
      ]
     },
     "execution_count": 8,
     "metadata": {},
     "output_type": "execute_result"
    },
    {
     "data": {
      "image/png": "[encoded data removed]",
      "text/plain": [
       "<Figure size 864x360 with 2 Axes>"
      ]
     },
     "metadata": {
      "needs_background": "light"
     },
     "output_type": "display_data"
    }
   ],
   "source": [
    "f= plt.figure(figsize=(12,5))\n",
    "\n",
    "ax=f.add_subplot(121)\n",
    "sns.distplot(age_n,color = 'olivedrab',hist = True, kde = False,ax = ax)\n",
    "ax.set_title('control')\n",
    "\n",
    "ax=f.add_subplot(122)\n",
    "sns.distplot(age_n1,color = 'gold',hist = True, kde = False,ax=ax)\n",
    "ax.set_title('test')"
   ]
  },
  {
   "cell_type": "markdown",
   "id": "108e1bc4",
   "metadata": {},
   "source": [
    "### Проверим данные на нормальность:"
   ]
  },
  {
   "cell_type": "markdown",
   "id": "e0fb8503",
   "metadata": {},
   "source": [
    "#### QQ-plot\n",
    "\n",
    "\n",
    "\n",
    "***Квантиль дискретной выборки*** — это одна из точек, делящих упорядоченную последовательность чисел на равные части.\n",
    "![im](https://habrastorage.org/r/w1560/getpro/habr/upload_files/0b0/fde/cdf/0b0fdecdf33f3e8ff5d56cd74f700f3b.jpg)\n",
    "\n",
    "Понятия 0.25 квантиль, 1 квартиль и 25 персентиль обозначают одно и то же, как и 2 квартиль, 0.5 квантиль и 50 персентиль.\n",
    "\n",
    "***Квантиль непрерывного распределения*** — это одна из точек, делящих функцию плотности распределения на участки, вероятность попадания в которые одинакова, то есть на участки одинаковой площади.\n",
    "\n",
    "![im](https://habrastorage.org/r/w1560/getpro/habr/upload_files/ced/171/7c6/ced1717c6ccf73d530fa4fedc8532e87.png)\n",
    "\n",
    "![image.png](https://habrastorage.org/r/w1560/getpro/habr/upload_files/e87/0ca/f0e/e870caf0e1a061e27586f64a5d543eec.jpg)\n",
    "\n",
    "![image-2.png](https://habrastorage.org/r/w1560/getpro/habr/upload_files/145/a92/71d/145a9271df6739b90af2fb19165fa559.jpg)\n",
    "\n",
    "Подробнее читать тут: https://habr.com/ru/post/578754/"
   ]
  },
  {
   "cell_type": "code",
   "execution_count": 9,
   "id": "a748144b",
   "metadata": {},
   "outputs": [
    {
     "data": {
      "image/png": "[encoded data removed]",
      "text/plain": [
       "<Figure size 432x288 with 1 Axes>"
      ]
     },
     "metadata": {
      "needs_background": "light"
     },
     "output_type": "display_data"
    },
    {
     "data": {
      "image/png": "[encoded data removed]",
      "text/plain": [
       "<Figure size 432x288 with 1 Axes>"
      ]
     },
     "metadata": {
      "needs_background": "light"
     },
     "output_type": "display_data"
    }
   ],
   "source": [
    "stats.probplot(age_n, dist=\"norm\", plot=plt)\n",
    "plt.show()\n",
    "\n",
    "stats.probplot(age_n1, dist=\"norm\", plot=plt)\n",
    "plt.show()\n"
   ]
  },
  {
   "cell_type": "markdown",
   "id": "2ae39c4d",
   "metadata": {},
   "source": [
    "#### Критерий Шапиро-Уилка\n",
    "\n",
    "Нулевая гипотеза H0 теста <span class=\"burk\">Шапиро–Уилка</span> заключается в том, что случайная величина, выборка x которой известна, распределена по нормальному закону. \n",
    "\n",
    "Альтернативная гипотеза H1 заключается в том, закон распределения не является нормальным.\n",
    "\n",
    "\n",
    "Для выполнения теста Шапиро-Уилка предназначена функция stats.shapiro,\n",
    "принимающая на вход выбокру x объема не меньше 3 и не больше 5000.\n",
    "\n",
    "Функция возвращает список со следующими компонентами:\n",
    "\n",
    "• ***statistic*** – значение статистики теста, которую принято обозначать\n",
    "буквой W;\n",
    "\n",
    "• ***p.value*** – апроксимация p-value для полученного значения статистики;\n"
   ]
  },
  {
   "cell_type": "code",
   "execution_count": 10,
   "id": "618488b4",
   "metadata": {},
   "outputs": [],
   "source": [
    "groups = [age_n,age_n1]"
   ]
  },
  {
   "cell_type": "code",
   "execution_count": 11,
   "id": "3d91b500",
   "metadata": {},
   "outputs": [
    {
     "name": "stdout",
     "output_type": "stream",
     "text": [
      "Normal W= 0.9999 p-value 0.7928\n",
      "Normal W= 0.9998 p-value 0.2816\n"
     ]
    },
    {
     "name": "stderr",
     "output_type": "stream",
     "text": [
      "C:\\Users\\m.pashentseva\\Anaconda3\\lib\\site-packages\\scipy\\stats\\morestats.py:1681: UserWarning: p-value may not be accurate for N > 5000.\n",
      "  warnings.warn(\"p-value may not be accurate for N > 5000.\")\n"
     ]
    }
   ],
   "source": [
    "#Критерий Шапиро-Уилка\n",
    "# используется для проверки гипотезы H_0:\n",
    "# «случайная величина X распределена нормально» \n",
    "# является одним наиболее эффективных критериев проверки нормальности.\n",
    "for group in groups:\n",
    "    W_value,p_value = stats.shapiro(group)\n",
    "    if p_value > 0.01:\n",
    "        print('Normal','W=',round(W_value,4),'p-value',round(p_value,4))\n",
    "    else:\n",
    "        print('Not normal','W=',round(W_value,4),'p-value',round(p_value,4))"
   ]
  },
  {
   "cell_type": "markdown",
   "id": "8bce5170",
   "metadata": {
    "solution2": "shown",
    "solution2_first": true
   },
   "source": [
    "### Тест\n",
    "\n",
    " Чего мы ожидаем? Конечно, мы ожидаем что возраст в тестовой группе будет выше. \n",
    "<!--Но! Какой исход нас волнует? На самом деле для нам важно понять, стал ли возраст выше или ниже. Поэтому мы формулируем двустороннюю альтернативную гипотезу!  -->\n",
    "\n",
    "Как сформулировать гипотезы в этом случае?\n"
   ]
  },
  {
   "cell_type": "markdown",
   "id": "fe577a83",
   "metadata": {
    "solution2": "shown"
   },
   "source": [
    "* H0 - средний возраст в группах не имет значимых различий;\n",
    "* H1 - средний возраст в группах больше в тестовой выборке"
   ]
  },
  {
   "cell_type": "markdown",
   "id": "07ebc0e8",
   "metadata": {},
   "source": [
    "Что дальше? Определим уровень значимости.\n",
    "* Берем a = 0.05"
   ]
  },
  {
   "cell_type": "markdown",
   "id": "252db53b",
   "metadata": {},
   "source": [
    "**Рассчитаем статистику критерия Стьюдента**\n",
    "\n",
    "![st](https://i.pinimg.com/originals/38/39/58/383958ca7ad8b647440bf3921ac2b6ad.png)"
   ]
  },
  {
   "cell_type": "markdown",
   "id": "e56df082",
   "metadata": {},
   "source": [
    "Вычислим сами средний возраст, раз уж мы сравниваем "
   ]
  },
  {
   "cell_type": "code",
   "execution_count": 12,
   "id": "edbbac31",
   "metadata": {},
   "outputs": [
    {
     "name": "stdout",
     "output_type": "stream",
     "text": [
      "Средний возраст в контрольной группе =  24.962565171996747\n",
      "Средний возраст в тестовой группе =  39.95298268996873\n"
     ]
    }
   ],
   "source": [
    "mean_a = np.mean(age_n)\n",
    "mean_b = np.mean(age_n1)\n",
    "print('Средний возраст в контрольной группе = ',mean_a)\n",
    "print('Средний возраст в тестовой группе = ',mean_b)"
   ]
  },
  {
   "cell_type": "markdown",
   "id": "e62afed0",
   "metadata": {},
   "source": [
    "Дальше нам надо вычислить их разность, разницу берем по модулю без учета знака"
   ]
  },
  {
   "cell_type": "code",
   "execution_count": 13,
   "id": "bd416a2a",
   "metadata": {},
   "outputs": [
    {
     "name": "stdout",
     "output_type": "stream",
     "text": [
      "Разница выборочных средних =  -14.99041751797198\n"
     ]
    }
   ],
   "source": [
    "mean_diff = mean_a - mean_b\n",
    "print('Разница выборочных средних = ',mean_diff)"
   ]
  },
  {
   "cell_type": "markdown",
   "id": "a1cc0024",
   "metadata": {},
   "source": [
    "Дальше вычисляем стандартную ошибку разности выборочных средних. Из прошлой лекции мы знаем, что это такое и какой смысл в расчете этого значени."
   ]
  },
  {
   "cell_type": "code",
   "execution_count": 14,
   "id": "c069f078",
   "metadata": {},
   "outputs": [
    {
     "name": "stdout",
     "output_type": "stream",
     "text": [
      "Стандартная ошибка разности средних =  0.05401725363901048\n"
     ]
    }
   ],
   "source": [
    "#количество элементов в выборках\n",
    "n1 = len(age_n)\n",
    "n2 = len(age_n1)\n",
    "\n",
    "#дисперсии\n",
    "var_a = np.var(age_n,ddof = 1)\n",
    "var_b = np.var(age_n1,ddof = 1)\n",
    "\n",
    "#стандартные отклонения\n",
    "sd_a = np.sqrt(var_a)\n",
    "sd_b = np.sqrt(var_b)\n",
    "\n",
    "#стандартная ошибка разности средних\n",
    "sem = np.sqrt(sd_a**2/n1 + sd_b**2/n2)\n",
    "\n",
    "print('Стандартная ошибка разности средних = ',sem)"
   ]
  },
  {
   "cell_type": "markdown",
   "id": "a1903bbe",
   "metadata": {},
   "source": [
    "Получим статистику критерия"
   ]
  },
  {
   "cell_type": "code",
   "execution_count": 15,
   "id": "c858a035",
   "metadata": {},
   "outputs": [
    {
     "name": "stdout",
     "output_type": "stream",
     "text": [
      "t-критерий = -277.5116561488072\n"
     ]
    }
   ],
   "source": [
    "t = mean_diff/sem\n",
    "print('t-критерий =',t)"
   ]
  },
  {
   "cell_type": "code",
   "execution_count": 24,
   "id": "7e818b35",
   "metadata": {},
   "outputs": [
    {
     "data": {
      "text/plain": [
       "[<matplotlib.lines.Line2D at 0x20584cf1340>]"
      ]
     },
     "execution_count": 24,
     "metadata": {},
     "output_type": "execute_result"
    },
    {
     "data": {
      "image/png": "[encoded data removed]",
      "text/plain": [
       "<Figure size 432x288 with 1 Axes>"
      ]
     },
     "metadata": {
      "needs_background": "light"
     },
     "output_type": "display_data"
    }
   ],
   "source": [
    "#Плотность вероятности -  при заданном распределении, какова вероятность наблюдения\n",
    "x = np.linspace(-5.0, 5.0, 100)\n",
    "#степени свободы\n",
    "df = (n1 + n2) - 2\n",
    "plt.plot(x,stats.t.pdf(x, df) )"
   ]
  },
  {
   "cell_type": "markdown",
   "id": "356f8c20",
   "metadata": {},
   "source": [
    "Получим p-value\n",
    "\n",
    "\n",
    "**Уровень значимости** - вероятность ошибочного отклонения нулевой гипотезы или иными словами, вероятность совершения ошибки первого рода. Конечно, мы берем не саму вероятность, а задаем фиксированное число, которую наша наша вероятность не должна превышать.\n",
    "Всем известные значения **p-value**, равные 0.05,0.01 и 0.001 - это стандартные уровни статистической значимости, используемые аналитиками при проверке гипотез.\n",
    "Иначе говоря, уровень значимости **(p-value)** – это наименьшее значение уровня значимости (т.е. вероятности отказа от справедливой гипотезы), для которого вычисленная проверочная статистика ведет к отказу от нулевой гипотезы. "
   ]
  },
  {
   "cell_type": "code",
   "execution_count": 23,
   "id": "f51feb8b",
   "metadata": {},
   "outputs": [
    {
     "name": "stdout",
     "output_type": "stream",
     "text": [
      "Кол-во степеней свободы =  19998\n",
      "p_value =  0.0\n"
     ]
    },
    {
     "data": {
      "image/png": "[encoded data removed]",
      "text/plain": [
       "<Figure size 432x288 with 1 Axes>"
      ]
     },
     "metadata": {
      "needs_background": "light"
     },
     "output_type": "display_data"
    }
   ],
   "source": [
    "#степени свободы\n",
    "df = (n1 + n2) - 2\n",
    "x = np.linspace(-5.0, 5.0, 100)\n",
    "\n",
    "print('Кол-во степеней свободы = ', df )\n",
    "\n",
    "#Функция распределения показывает при заданном распределении (Стьюдента),\n",
    "# какова вероятность того, что результат окажется меньше или равен заданному\n",
    "plt.plot(x,stats.t.cdf(x, df) )\n",
    "print(\"p_value = \",stats.t.cdf( t, df) )"
   ]
  },
  {
   "cell_type": "code",
   "execution_count": 166,
   "id": "ce6c005e",
   "metadata": {},
   "outputs": [
    {
     "name": "stdout",
     "output_type": "stream",
     "text": [
      "Есть статистически значимая разница \n",
      "t - критерий =  -287.96055208342597 \n",
      "p-value = 0.0\n"
     ]
    }
   ],
   "source": [
    "#степени свободы\n",
    "df = (n1 + n2) - 2\n",
    "\n",
    "#p - value\n",
    "p = stats.t.cdf(t, df) \n",
    "\n",
    "if p > 0.05: \n",
    "    print('Нет статистически значимой разницы','\\nt - критерий = ',t,'\\np-value =',p)\n",
    "else:\n",
    "    print('Есть статистически значимая разница','\\nt - критерий = ',t,'\\np-value =',p)"
   ]
  },
  {
   "cell_type": "markdown",
   "id": "9598fad4",
   "metadata": {},
   "source": [
    "Тоже самое можно сделать  с помощью scipy"
   ]
  },
  {
   "cell_type": "code",
   "execution_count": 97,
   "id": "a6170ca2",
   "metadata": {},
   "outputs": [
    {
     "name": "stdout",
     "output_type": "stream",
     "text": [
      "Есть статистически значимая разница \n",
      "t - критерий =  -287.960552083426 \n",
      "p-value = 0.0\n"
     ]
    }
   ],
   "source": [
    "t2, p2 = stats.ttest_ind(age_n,age_n1)\n",
    "\n",
    "\n",
    "if p2 > 0.05:\n",
    "    print('Нет статистически значимой разницы','\\nt - критерий = ',t2,'\\np-value =',p2)\n",
    "else:\n",
    "    print('Есть статистически значимая разница','\\nt - критерий = ',t2,'\\np-value =',p2)"
   ]
  },
  {
   "cell_type": "markdown",
   "id": "0865c73d",
   "metadata": {},
   "source": [
    "##   Непараметрический критерий Манна - Уитни"
   ]
  },
  {
   "cell_type": "markdown",
   "id": "1928f5f3",
   "metadata": {},
   "source": [
    "Мы увидели, что акция на привлечение более взрослой аудитории дала значимый результат, поэтому решили провести тест и узнать как же это повлияло на оборот клиентов)"
   ]
  },
  {
   "cell_type": "code",
   "execution_count": 30,
   "id": "4505facb",
   "metadata": {},
   "outputs": [],
   "source": [
    "control = np.random.exponential(scale=1000.0, size=1000)\n",
    "test = np.hstack((np.random.exponential(scale=1000.0, size=500),np.random.normal(1000, 200, 500)))\n",
    "\n",
    "d = {\"a\":control,\"b\": test}\n",
    "df = pd.DataFrame(d)"
   ]
  },
  {
   "cell_type": "code",
   "execution_count": 31,
   "id": "4fc8bab2",
   "metadata": {},
   "outputs": [
    {
     "name": "stderr",
     "output_type": "stream",
     "text": [
      "C:\\Users\\m.pashentseva\\Anaconda3\\lib\\site-packages\\seaborn\\distributions.py:2557: FutureWarning: `distplot` is a deprecated function and will be removed in a future version. Please adapt your code to use either `displot` (a figure-level function with similar flexibility) or `histplot` (an axes-level function for histograms).\n",
      "  warnings.warn(msg, FutureWarning)\n",
      "C:\\Users\\m.pashentseva\\Anaconda3\\lib\\site-packages\\seaborn\\distributions.py:2557: FutureWarning: `distplot` is a deprecated function and will be removed in a future version. Please adapt your code to use either `displot` (a figure-level function with similar flexibility) or `histplot` (an axes-level function for histograms).\n",
      "  warnings.warn(msg, FutureWarning)\n"
     ]
    },
    {
     "data": {
      "text/plain": [
       "Text(0.5, 1.0, 'test')"
      ]
     },
     "execution_count": 31,
     "metadata": {},
     "output_type": "execute_result"
    },
    {
     "data": {
      "image/png": "[encoded data removed]",
      "text/plain": [
       "<Figure size 864x360 with 2 Axes>"
      ]
     },
     "metadata": {
      "needs_background": "light"
     },
     "output_type": "display_data"
    }
   ],
   "source": [
    "f= plt.figure(figsize=(12,5))\n",
    "\n",
    "ax=f.add_subplot(121)\n",
    "sns.distplot(df['a'],color = 'olivedrab',hist = True,ax = ax)\n",
    "ax.set_title('control')\n",
    "\n",
    "ax=f.add_subplot(122)\n",
    "sns.distplot(df['b'],color = 'gold',hist = True,ax=ax)\n",
    "ax.set_title('test')"
   ]
  },
  {
   "cell_type": "markdown",
   "id": "cc1b8991",
   "metadata": {},
   "source": [
    "Проверим данные на нормальность"
   ]
  },
  {
   "cell_type": "code",
   "execution_count": 32,
   "id": "4fad9e65",
   "metadata": {},
   "outputs": [
    {
     "data": {
      "image/png": "[encoded data removed]",
      "text/plain": [
       "<Figure size 432x288 with 1 Axes>"
      ]
     },
     "metadata": {
      "needs_background": "light"
     },
     "output_type": "display_data"
    },
    {
     "data": {
      "image/png": "[encoded data removed]",
      "text/plain": [
       "<Figure size 432x288 with 1 Axes>"
      ]
     },
     "metadata": {
      "needs_background": "light"
     },
     "output_type": "display_data"
    }
   ],
   "source": [
    "stats.probplot(df['a'], dist=\"norm\", plot=plt)\n",
    "plt.show()\n",
    "\n",
    "stats.probplot(df['b'], dist=\"norm\", plot=plt)\n",
    "plt.show()"
   ]
  },
  {
   "cell_type": "code",
   "execution_count": 33,
   "id": "9b185bea",
   "metadata": {},
   "outputs": [],
   "source": [
    "groups = [df['a'], df['b']]"
   ]
  },
  {
   "cell_type": "code",
   "execution_count": 34,
   "id": "ca9bc692",
   "metadata": {},
   "outputs": [
    {
     "name": "stdout",
     "output_type": "stream",
     "text": [
      "Not normal W= 0.8299 p-value 0.0\n",
      "Not normal W= 0.6706 p-value 0.0\n"
     ]
    }
   ],
   "source": [
    "for group in groups:\n",
    "    W_value,p_value = stats.shapiro(group)\n",
    "    if p_value > 0.01:\n",
    "        print('Normal','W=',round(W_value,4),'p-value',round(p_value,4))\n",
    "    else:\n",
    "        print('Not normal','W=',round(W_value,4),'p-value',round(p_value,4))"
   ]
  },
  {
   "cell_type": "markdown",
   "id": "be59f3c0",
   "metadata": {},
   "source": [
    "Наши денежки распределены не нормально.  С таким мы тоже умеем работать.\n",
    "Один из популярных методов сравнения в двух независимых группах - ***критерий Манна-Уитни***."
   ]
  },
  {
   "cell_type": "markdown",
   "id": "b0074c00",
   "metadata": {},
   "source": [
    "**Непараметрические** критерии не требуют соответствия какому-либо из распределений. Непараметрические критерии заменяют реальные значения признака рангами (номерами элементов в упорядоченной по возрастанию выборке). Мы все вычисляем на основе полученных рангов, таким образом, мы и правда не привязываемся к параметрам распределения, как в случае с критерием Стьюдента\n",
    "\n"
   ]
  },
  {
   "cell_type": "markdown",
   "id": "3891936c",
   "metadata": {},
   "source": [
    "**Критерий Манна-Уитни** представляет непараметрическую альтернативу t-критерия для независимых выборок. Преимущество его состоит в том, что мы отказываемся от предположения нормальности распределения и одинаковых дисперсий. Необходимо, чтобы данные были измерены как минимум в порядковой шкале. Относится к ранговым критериям."
   ]
  },
  {
   "cell_type": "markdown",
   "id": "54fc6a7c",
   "metadata": {},
   "source": [
    "Интерпретация теста по существу похожа на интерпретацию результатов t-критерия для независимых выборок, за исключением того, что U критерий вычисляется, как сумма индикаторов попарного сравнения элементов первой выборки с элементами второй выборки. U критерий - наиболее мощная (чувствительная) непараметрическая альтернатива t-критерия для независимых выборок; фактически, в некоторых случаях он имеет даже большую мощность, чем t-критерий."
   ]
  },
  {
   "cell_type": "markdown",
   "id": "112d0886",
   "metadata": {},
   "source": [
    "Алгоритм расчета критерия прост и интуитивно понятен"
   ]
  },
  {
   "cell_type": "markdown",
   "id": "3651a2c1",
   "metadata": {},
   "source": [
    "**Важная поправка** при больших значениях выборки распределение U-критерия быстро сходится к нормальному распределению, поэтому для интерпретации рассчитывается z-значение, если количество элементов в выборках больше 60. У нас больше)))"
   ]
  },
  {
   "cell_type": "markdown",
   "id": "4b91d368",
   "metadata": {},
   "source": [
    "***Формула для расчета U-критерия (статистики теста):***"
   ]
  },
  {
   "cell_type": "markdown",
   "id": "21c9c1e0",
   "metadata": {},
   "source": [
    "![u](https://i.pinimg.com/564x/7f/40/70/7f407010828abd65c1602e0472a8a096.jpg)"
   ]
  },
  {
   "cell_type": "markdown",
   "id": "4a28aecd",
   "metadata": {},
   "source": [
    "**Из двух выборок получим одну,отсортируем и затем расставим ранги**. Максимальное значение в группе имеет первый ранг и так далее."
   ]
  },
  {
   "cell_type": "code",
   "execution_count": 35,
   "id": "918eb540",
   "metadata": {
    "scrolled": true
   },
   "outputs": [
    {
     "data": {
      "text/html": [
       "<div>\n",
       "<style scoped>\n",
       "    .dataframe tbody tr th:only-of-type {\n",
       "        vertical-align: middle;\n",
       "    }\n",
       "\n",
       "    .dataframe tbody tr th {\n",
       "        vertical-align: top;\n",
       "    }\n",
       "\n",
       "    .dataframe thead th {\n",
       "        text-align: right;\n",
       "    }\n",
       "</style>\n",
       "<table border=\"1\" class=\"dataframe\">\n",
       "  <thead>\n",
       "    <tr style=\"text-align: right;\">\n",
       "      <th></th>\n",
       "      <th>value</th>\n",
       "      <th>group</th>\n",
       "    </tr>\n",
       "  </thead>\n",
       "  <tbody>\n",
       "    <tr>\n",
       "      <th>0</th>\n",
       "      <td>407.747976</td>\n",
       "      <td>a</td>\n",
       "    </tr>\n",
       "    <tr>\n",
       "      <th>0</th>\n",
       "      <td>150.367922</td>\n",
       "      <td>b</td>\n",
       "    </tr>\n",
       "    <tr>\n",
       "      <th>1</th>\n",
       "      <td>1380.590878</td>\n",
       "      <td>a</td>\n",
       "    </tr>\n",
       "    <tr>\n",
       "      <th>1</th>\n",
       "      <td>585.468945</td>\n",
       "      <td>b</td>\n",
       "    </tr>\n",
       "    <tr>\n",
       "      <th>2</th>\n",
       "      <td>1846.665185</td>\n",
       "      <td>a</td>\n",
       "    </tr>\n",
       "    <tr>\n",
       "      <th>...</th>\n",
       "      <td>...</td>\n",
       "      <td>...</td>\n",
       "    </tr>\n",
       "    <tr>\n",
       "      <th>997</th>\n",
       "      <td>1133.044215</td>\n",
       "      <td>b</td>\n",
       "    </tr>\n",
       "    <tr>\n",
       "      <th>998</th>\n",
       "      <td>225.330739</td>\n",
       "      <td>a</td>\n",
       "    </tr>\n",
       "    <tr>\n",
       "      <th>998</th>\n",
       "      <td>783.070667</td>\n",
       "      <td>b</td>\n",
       "    </tr>\n",
       "    <tr>\n",
       "      <th>999</th>\n",
       "      <td>1371.201459</td>\n",
       "      <td>a</td>\n",
       "    </tr>\n",
       "    <tr>\n",
       "      <th>999</th>\n",
       "      <td>942.207376</td>\n",
       "      <td>b</td>\n",
       "    </tr>\n",
       "  </tbody>\n",
       "</table>\n",
       "<p>2000 rows × 2 columns</p>\n",
       "</div>"
      ],
      "text/plain": [
       "           value group\n",
       "0     407.747976     a\n",
       "0     150.367922     b\n",
       "1    1380.590878     a\n",
       "1     585.468945     b\n",
       "2    1846.665185     a\n",
       "..           ...   ...\n",
       "997  1133.044215     b\n",
       "998   225.330739     a\n",
       "998   783.070667     b\n",
       "999  1371.201459     a\n",
       "999   942.207376     b\n",
       "\n",
       "[2000 rows x 2 columns]"
      ]
     },
     "execution_count": 35,
     "metadata": {},
     "output_type": "execute_result"
    }
   ],
   "source": [
    "# объединяем в один столбец наши выборки\n",
    "df1 = df.stack().reset_index(-1).iloc[:, ::-1]\n",
    "df1.columns = ['value', 'group']\n",
    "df1"
   ]
  },
  {
   "cell_type": "code",
   "execution_count": 36,
   "id": "955411d8",
   "metadata": {},
   "outputs": [],
   "source": [
    "# проставлем ранги (номера элементов в упорядоченной по возрастанию выборке)\n",
    "df1['rank'] = df1['value'].rank(ascending = False, numeric_only = True)"
   ]
  },
  {
   "cell_type": "code",
   "execution_count": 37,
   "id": "fb3ab138",
   "metadata": {},
   "outputs": [
    {
     "data": {
      "text/html": [
       "<div>\n",
       "<style scoped>\n",
       "    .dataframe tbody tr th:only-of-type {\n",
       "        vertical-align: middle;\n",
       "    }\n",
       "\n",
       "    .dataframe tbody tr th {\n",
       "        vertical-align: top;\n",
       "    }\n",
       "\n",
       "    .dataframe thead th {\n",
       "        text-align: right;\n",
       "    }\n",
       "</style>\n",
       "<table border=\"1\" class=\"dataframe\">\n",
       "  <thead>\n",
       "    <tr style=\"text-align: right;\">\n",
       "      <th></th>\n",
       "      <th>value</th>\n",
       "      <th>group</th>\n",
       "      <th>rank</th>\n",
       "    </tr>\n",
       "  </thead>\n",
       "  <tbody>\n",
       "    <tr>\n",
       "      <th>0</th>\n",
       "      <td>407.747976</td>\n",
       "      <td>a</td>\n",
       "      <td>1500.0</td>\n",
       "    </tr>\n",
       "    <tr>\n",
       "      <th>0</th>\n",
       "      <td>150.367922</td>\n",
       "      <td>b</td>\n",
       "      <td>1796.0</td>\n",
       "    </tr>\n",
       "    <tr>\n",
       "      <th>1</th>\n",
       "      <td>1380.590878</td>\n",
       "      <td>a</td>\n",
       "      <td>369.0</td>\n",
       "    </tr>\n",
       "    <tr>\n",
       "      <th>1</th>\n",
       "      <td>585.468945</td>\n",
       "      <td>b</td>\n",
       "      <td>1340.0</td>\n",
       "    </tr>\n",
       "    <tr>\n",
       "      <th>2</th>\n",
       "      <td>1846.665185</td>\n",
       "      <td>a</td>\n",
       "      <td>248.0</td>\n",
       "    </tr>\n",
       "  </tbody>\n",
       "</table>\n",
       "</div>"
      ],
      "text/plain": [
       "         value group    rank\n",
       "0   407.747976     a  1500.0\n",
       "0   150.367922     b  1796.0\n",
       "1  1380.590878     a   369.0\n",
       "1   585.468945     b  1340.0\n",
       "2  1846.665185     a   248.0"
      ]
     },
     "execution_count": 37,
     "metadata": {},
     "output_type": "execute_result"
    }
   ],
   "source": [
    "df1.head()"
   ]
  },
  {
   "cell_type": "code",
   "execution_count": 38,
   "id": "f5b18f5b",
   "metadata": {},
   "outputs": [
    {
     "data": {
      "text/plain": [
       "group\n",
       "a    1048689.0\n",
       "b     952311.0\n",
       "Name: rank, dtype: float64"
      ]
     },
     "execution_count": 38,
     "metadata": {},
     "output_type": "execute_result"
    }
   ],
   "source": [
    "# Дальше необходимо вычислить сумму рангов\n",
    "df1.groupby('group')['rank'].sum()"
   ]
  },
  {
   "cell_type": "code",
   "execution_count": 39,
   "id": "4dd8a058",
   "metadata": {},
   "outputs": [],
   "source": [
    "# разделяем обратно на 2 выборки\n",
    "a = df1[df1['group'] == 'a']['value']\n",
    "b = df1[df1['group'] == 'b']['value']\n",
    "rank_a = df1[df1['group'] == 'a']['rank'].sum()\n",
    "rank_b = df1[df1['group'] == 'b']['rank'].sum()"
   ]
  },
  {
   "cell_type": "markdown",
   "id": "53cc2c2f",
   "metadata": {},
   "source": [
    "![u](https://i.pinimg.com/564x/7f/40/70/7f407010828abd65c1602e0472a8a096.jpg)"
   ]
  },
  {
   "cell_type": "code",
   "execution_count": 40,
   "id": "d4982e5b",
   "metadata": {},
   "outputs": [],
   "source": [
    "# Вычисляем критерий по формуле\n",
    "def U(a,b,rank_a,rank_b):\n",
    "    number_of_values_a = a.count() #N1\n",
    "    number_of_values_b = b.count() #N2\n",
    "    all_values = number_of_values_a * number_of_values_b #N1*N2\n",
    "    max_rank = max(rank_a,rank_b) #T_x, x=1,2\n",
    "    max_count = float() #N_x , x=1,2\n",
    "    if rank_a > rank_b:\n",
    "        max_count = number_of_values_a\n",
    "    else:\n",
    "        max_count = number_of_values_b\n",
    "    return (all_values + (max_count * (max_count + 1))/2) - max_rank"
   ]
  },
  {
   "cell_type": "code",
   "execution_count": 41,
   "id": "dd9d8ca1",
   "metadata": {},
   "outputs": [
    {
     "name": "stdout",
     "output_type": "stream",
     "text": [
      "U-критерий = 451811.0\n"
     ]
    }
   ],
   "source": [
    "print('U-критерий =',U(a,b,rank_a,rank_b))"
   ]
  },
  {
   "cell_type": "markdown",
   "id": "2fccd580",
   "metadata": {},
   "source": [
    "Теперь это надо как-то интерпретировать и вывести p-value. Выше упоминали, что при размере выборки > 60 распределение U-критерия отлично сходится к нормальному, поэтому мы рассчитываем z-значение для нашего U-критерия и по нему получаем наш заветный p-value и результат т.к. Z-тест (z-критерий Фишера) — проверяет гипотезы, основанные на нормальном распределении"
   ]
  },
  {
   "cell_type": "markdown",
   "id": "9d42293b",
   "metadata": {},
   "source": [
    "***Z - значение*** - это мера относительного разброса наблюдаемого или измеренного значения, которая показывает, сколько стандартных отклонений составляет его разброс относительного среднего значения. Это безразмерный статистический показатель используемый для сравнения значений разной размерности или шкалой измерений.\n",
    "\n",
    "![z](https://i.pinimg.com/originals/9f/b5/36/9fb536c3c368b01f17b4231c4b842951.png)"
   ]
  },
  {
   "cell_type": "code",
   "execution_count": 42,
   "id": "c7239ce1",
   "metadata": {},
   "outputs": [],
   "source": [
    "def z_score(a,b):\n",
    "    m_u = (a.count()*b.count())/2 \n",
    "    sigma_u = np.sqrt((a.count()*b.count())*(a.count()+b.count()+1)/12)\n",
    "    return (U(a,b,rank_a,rank_b) - m_u)/sigma_u"
   ]
  },
  {
   "cell_type": "code",
   "execution_count": 43,
   "id": "5e4df735",
   "metadata": {},
   "outputs": [
    {
     "data": {
      "text/plain": [
       "0.0002"
      ]
     },
     "execution_count": 43,
     "metadata": {},
     "output_type": "execute_result"
    }
   ],
   "source": [
    "round(stats.norm.cdf(z_score(a,b)) * 2.0,4)"
   ]
  },
  {
   "cell_type": "code",
   "execution_count": 44,
   "id": "4060eae0",
   "metadata": {},
   "outputs": [],
   "source": [
    "def MannWhitney(a,b,rank_a,rank_b):\n",
    "    U = min((rank_a - (a.count() * (a.count() + 1))/2),(rank_b - (b.count() * (b.count() + 1))/2))\n",
    "    m_u = (a.count()*b.count())/2\n",
    "    sigma_u = np.sqrt((a.count()*b.count())*(a.count()+ b.count()+1)/12)\n",
    "    z_score = (U - m_u)/sigma_u\n",
    "    p_val = stats.norm.cdf(z_score) \n",
    "    if p_val > 0.05:\n",
    "        print('Нет статистически значимой разницы и оснований отвергнуть гипотезу H0','\\nU-критерий:',U,\n",
    "              '\\nz_score',z_score,'\\np-value',round(p_val,4))\n",
    "    else:\n",
    "        print('Есть статистически значимая разница, гипотеза H0 отвергается','\\nU-критерий:',U,\n",
    "              '\\nz_score',z_score,'\\np-value',round(p_val,4))\n",
    "        return"
   ]
  },
  {
   "cell_type": "code",
   "execution_count": 45,
   "id": "995ed270",
   "metadata": {},
   "outputs": [
    {
     "name": "stdout",
     "output_type": "stream",
     "text": [
      "Есть статистически значимая разница, гипотеза H0 отвергается \n",
      "U-критерий: 451811.0 \n",
      "z_score -3.7317710632306773 \n",
      "p-value 0.0001\n"
     ]
    }
   ],
   "source": [
    "MannWhitney(a,b,rank_a,rank_b)"
   ]
  },
  {
   "cell_type": "code",
   "execution_count": 46,
   "id": "4c450b8c",
   "metadata": {},
   "outputs": [
    {
     "name": "stdout",
     "output_type": "stream",
     "text": [
      "Разница статистически значима \n",
      "p-value 0.0002 \n",
      "U-критерий 451811.0\n"
     ]
    }
   ],
   "source": [
    "stat, p_val = stats.mannwhitneyu(a,b,alternative = 'two-sided')\n",
    "if p_val > 0.05:\n",
    "    print('Статистически значимой разницы нет','\\np-value',round(p_val,4),'\\nU-критерий',stat)\n",
    "else:\n",
    "    print('Разница статистически значима','\\np-value',round(p_val,4),'\\nU-критерий',stat)"
   ]
  },
  {
   "cell_type": "markdown",
   "id": "16b44496",
   "metadata": {},
   "source": [
    "##  Эффективное сравнение конверсий/долей. Критерий Хи-квадрат Пирсона"
   ]
  },
  {
   "cell_type": "markdown",
   "id": "46c6c9ca",
   "metadata": {},
   "source": [
    "Критерий Хи-квадарт позволяет нам сравнить отношения количества успеха к неуспехам в двух таблицах.Под успешным можем подразумевать не толькол совершение действия, но и любое желаемое число, например можем сравнить доли успешно закрытых заказов, доли женщин студентов от всей группы и так далее. Позволяет сравнивать больше чем два значения и довольно таки эффективно."
   ]
  },
  {
   "cell_type": "markdown",
   "id": "3ef616d3",
   "metadata": {
    "solution2": "shown",
    "solution2_first": true
   },
   "source": [
    "Суть <span class=\"burk\">теста</span> - сравнить конверсии в успешное закрытие заказа. <span class=\"birk\">Давайте вместе сформулируем гипотезы</span>)"
   ]
  },
  {
   "cell_type": "markdown",
   "id": "332619b0",
   "metadata": {
    "solution2": "shown"
   },
   "source": [
    "Н0: Доли не имеют значимого различия\n",
    "\n",
    "Н1: Есть значимосе различие между долями\n",
    "\n",
    "<!-- Выдвигается нулевая гипотеза о том, что наблюдаемые частоты соответствуют ожидаемым (т.е. между ними нет разницы, т.к. они взяты из той же генеральной совокупности).  Если этот так, то разброс будет относительно небольшим, в пределах случайных колебаний. Меру разброса определяют по статистике Хи-квадрат. \n",
    "\n",
    "![xi](https://sp-ao.shortpixel.ai/client/to_webp,q_glossy,ret_img,w_517/https://statanaliz.info/wp-content/uploads/2017/02/chi_sqr_01_02.png) -->"
   ]
  },
  {
   "cell_type": "code",
   "execution_count": 50,
   "id": "01144bf5",
   "metadata": {},
   "outputs": [],
   "source": [
    "data = pd.read_csv('conversion_test.csv')"
   ]
  },
  {
   "cell_type": "code",
   "execution_count": 51,
   "id": "4ffff947",
   "metadata": {},
   "outputs": [
    {
     "data": {
      "text/html": [
       "<div>\n",
       "<style scoped>\n",
       "    .dataframe tbody tr th:only-of-type {\n",
       "        vertical-align: middle;\n",
       "    }\n",
       "\n",
       "    .dataframe tbody tr th {\n",
       "        vertical-align: top;\n",
       "    }\n",
       "\n",
       "    .dataframe thead th {\n",
       "        text-align: right;\n",
       "    }\n",
       "</style>\n",
       "<table border=\"1\" class=\"dataframe\">\n",
       "  <thead>\n",
       "    <tr style=\"text-align: right;\">\n",
       "      <th></th>\n",
       "      <th>Order</th>\n",
       "      <th>group</th>\n",
       "      <th>status</th>\n",
       "    </tr>\n",
       "  </thead>\n",
       "  <tbody>\n",
       "    <tr>\n",
       "      <th>0</th>\n",
       "      <td>1</td>\n",
       "      <td>1</td>\n",
       "      <td>0</td>\n",
       "    </tr>\n",
       "    <tr>\n",
       "      <th>1</th>\n",
       "      <td>2</td>\n",
       "      <td>1</td>\n",
       "      <td>0</td>\n",
       "    </tr>\n",
       "    <tr>\n",
       "      <th>2</th>\n",
       "      <td>3</td>\n",
       "      <td>1</td>\n",
       "      <td>1</td>\n",
       "    </tr>\n",
       "    <tr>\n",
       "      <th>3</th>\n",
       "      <td>4</td>\n",
       "      <td>1</td>\n",
       "      <td>1</td>\n",
       "    </tr>\n",
       "    <tr>\n",
       "      <th>4</th>\n",
       "      <td>5</td>\n",
       "      <td>1</td>\n",
       "      <td>0</td>\n",
       "    </tr>\n",
       "  </tbody>\n",
       "</table>\n",
       "</div>"
      ],
      "text/plain": [
       "   Order  group  status\n",
       "0      1      1       0\n",
       "1      2      1       0\n",
       "2      3      1       1\n",
       "3      4      1       1\n",
       "4      5      1       0"
      ]
     },
     "execution_count": 51,
     "metadata": {},
     "output_type": "execute_result"
    }
   ],
   "source": [
    "data.head()"
   ]
  },
  {
   "cell_type": "markdown",
   "id": "2c067a08",
   "metadata": {},
   "source": [
    "![xi](https://upload.wikimedia.org/wikipedia/commons/thumb/2/21/Chi-square_distributionPDF.png/488px-Chi-square_distributionPDF.png)"
   ]
  },
  {
   "cell_type": "markdown",
   "id": "5be3aba1",
   "metadata": {},
   "source": [
    "Критерий хи-квадарт вычисляем по формуле:\n",
    "\n",
    "![xi](data:image/png;base64,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)"
   ]
  },
  {
   "cell_type": "markdown",
   "id": "e4b1a8e4",
   "metadata": {},
   "source": [
    "Значение Xи-квадрат используется для оценки меры рассогласованности наблюдаемого и ожидаемого результата. Если, согласно нулевой гипотезе, ожидаемый результат будет сильно отличаться от наблюдаемых значений, значит стоит поставить под сомнение справедливость гипотезы."
   ]
  },
  {
   "cell_type": "markdown",
   "id": "7f36b5a9",
   "metadata": {},
   "source": [
    "<span class=\"mark\">Эмпимрические значения</span> - это те значения, которые мы получили на практике (В нашем случае это наши реальные конверсии в заказ)\n",
    "\n",
    "<span class=\"mark\">Теоретические значения</span> -  это те конверсии, которые бы мы получили, если бы была верна нулевая гипотеза об отсутствии значимого различия, то есть они должны быть равны.\n",
    "\n",
    "Если сравниваем 2 группы, то нужно не забыть про **поправку Йетса**:\n",
    "\n",
    "При использовании критерия Хи-квадрат Пирсона мы считаем, что дискретная вероятность наблюдаемых биномиальных частот в таблице может быть приближена непрерывным распределением хи-квадрат. Это предположение не совсем правильно, и вводит некоторую погрешность.\n",
    "\n",
    "Для того, чтобы уменьшить погрешность в приближении Франк Йейтс , английский статистик, предложил поправку на непрерывность , которая регулирует формулу для хи-квадрат тест Пирсона путем вычитания 0,5 из разницы между каждой наблюдаемой величиной и его ожидаемого значения в таблице 2 × 2 на случай чрезвычайных ситуаций. Это уменьшает хи-квадрат значение,  и тем самым увеличивает ее p -value\n",
    "\n",
    "Подробнее - https://ru.qwe.wiki/wiki/Yates's_correction_for_continuity\n",
    "\n",
    "$\\chi^2_Y = \\sum_{}\\frac{(|f_o - f_e| - 0.5)^2}{f_e}.$\n",
    "\n",
    "o - Наблюдаемые частоты\n",
    "\n",
    "е - Ожидаемые\n",
    "\n",
    "Если мы сравниваем больше 2-х значений, то есть таблица сопряженности не 2на2, то вводить поправку Йетса не нужно. Эта формула в основном используется, когда хотя бы одна ячейка таблицы имеет ожидаемое количество меньше 5.\n",
    "\n"
   ]
  },
  {
   "cell_type": "markdown",
   "id": "e44ee964",
   "metadata": {},
   "source": [
    "***Составляем таблицу сопряженности***\n",
    "\n",
    "<span class=\"mark\">Таблица сопряжённости</span>, или таблица контингентности, факторная таблица в статистике — средство представления совместного распределения двух переменных, предназначенное для исследования связи между ними. \n",
    "\n",
    "Таблица сопряжённости является наиболее универсальным средством изучения статистических связей, так как в ней могут быть представлены переменные с любым уровнем измерения. Таблицы сопряжённости часто используются для проверки гипотезы о наличии связи между двумя признаками с использованием точного теста Фишера или критерия согласия Пирсона.\n",
    "\n",
    "Подробнее о структуре таких таблиц - https://ru.wikipedia.org/wiki/%D0%A2%D0%B0%D0%B1%D0%BB%D0%B8%D1%86%D0%B0_%D1%81%D0%BE%D0%BF%D1%80%D1%8F%D0%B6%D1%91%D0%BD%D0%BD%D0%BE%D1%81%D1%82%D0%B8"
   ]
  },
  {
   "cell_type": "code",
   "execution_count": 52,
   "id": "6595e409",
   "metadata": {},
   "outputs": [
    {
     "data": {
      "text/html": [
       "<div>\n",
       "<style scoped>\n",
       "    .dataframe tbody tr th:only-of-type {\n",
       "        vertical-align: middle;\n",
       "    }\n",
       "\n",
       "    .dataframe tbody tr th {\n",
       "        vertical-align: top;\n",
       "    }\n",
       "\n",
       "    .dataframe thead th {\n",
       "        text-align: right;\n",
       "    }\n",
       "</style>\n",
       "<table border=\"1\" class=\"dataframe\">\n",
       "  <thead>\n",
       "    <tr style=\"text-align: right;\">\n",
       "      <th>status</th>\n",
       "      <th>0</th>\n",
       "      <th>1</th>\n",
       "      <th>All</th>\n",
       "    </tr>\n",
       "    <tr>\n",
       "      <th>group</th>\n",
       "      <th></th>\n",
       "      <th></th>\n",
       "      <th></th>\n",
       "    </tr>\n",
       "  </thead>\n",
       "  <tbody>\n",
       "    <tr>\n",
       "      <th>0</th>\n",
       "      <td>189</td>\n",
       "      <td>189</td>\n",
       "      <td>378</td>\n",
       "    </tr>\n",
       "    <tr>\n",
       "      <th>1</th>\n",
       "      <td>186</td>\n",
       "      <td>190</td>\n",
       "      <td>376</td>\n",
       "    </tr>\n",
       "    <tr>\n",
       "      <th>All</th>\n",
       "      <td>375</td>\n",
       "      <td>379</td>\n",
       "      <td>754</td>\n",
       "    </tr>\n",
       "  </tbody>\n",
       "</table>\n",
       "</div>"
      ],
      "text/plain": [
       "status    0    1  All\n",
       "group                \n",
       "0       189  189  378\n",
       "1       186  190  376\n",
       "All     375  379  754"
      ]
     },
     "execution_count": 52,
     "metadata": {},
     "output_type": "execute_result"
    }
   ],
   "source": [
    "table = pd.crosstab(\n",
    "    data['group'],\n",
    "    data['status'],\n",
    "    margins = True\n",
    ")\n",
    "table\n",
    "\n",
    "table1 = pd.crosstab(\n",
    "    data['group'],\n",
    "    data['status']\n",
    ")\n",
    "table"
   ]
  },
  {
   "cell_type": "markdown",
   "id": "47fb15a8",
   "metadata": {},
   "source": [
    "\n",
    "![xi](data:image/png;base64,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)"
   ]
  },
  {
   "cell_type": "code",
   "execution_count": 53,
   "id": "66f3c086",
   "metadata": {},
   "outputs": [],
   "source": [
    "def Chisq(table):\n",
    "    expected = []\n",
    "    obs1 = np.append(table.iloc[0][0:2].values, table.iloc[1][0:2].values) #[189, 189, 186, 190]\n",
    "    rows = table.iloc[0:2,2].values #[378, 376]\n",
    "    cols = table.iloc[2,0:2].values #[375, 379]\n",
    "    total = table.loc['All','All'] #754\n",
    "    for count in range(2):\n",
    "        for column in cols:\n",
    "            expected.append((rows[count]*column)/total) # Ожидаемые частоты column/total - доля купивших во всей выборке\n",
    "    obs = obs1 + 0.5 * np.sign(expected - obs1) \n",
    "    return sum(((obs - expected)**2)/expected)"
   ]
  },
  {
   "cell_type": "markdown",
   "id": "4fad27ea",
   "metadata": {},
   "source": [
    "**Число степеней свободы:** (rows - 1) * (cols - 1)\n",
    "* в нашем случае: (2-1) * (2-1) = 1 * 1 = 1\n"
   ]
  },
  {
   "cell_type": "code",
   "execution_count": 11,
   "id": "096d1979",
   "metadata": {},
   "outputs": [
    {
     "data": {
      "text/plain": [
       "0.005361664602799366"
      ]
     },
     "execution_count": 11,
     "metadata": {},
     "output_type": "execute_result"
    }
   ],
   "source": [
    "Chisq(table)"
   ]
  },
  {
   "cell_type": "code",
   "execution_count": 12,
   "id": "69b21f8a",
   "metadata": {},
   "outputs": [
    {
     "data": {
      "text/plain": [
       "0.9416283551235602"
      ]
     },
     "execution_count": 12,
     "metadata": {},
     "output_type": "execute_result"
    }
   ],
   "source": [
    "1 - stats.chi2.cdf(Chisq(table),1)"
   ]
  },
  {
   "cell_type": "code",
   "execution_count": 67,
   "id": "31a38e5e",
   "metadata": {},
   "outputs": [
    {
     "name": "stdout",
     "output_type": "stream",
     "text": [
      "Не можем отвергнуть нулевую гипотезу о том, что доли не имеют значимого различия \n",
      "Хи-квадрат критерий= 0.005361664602799366 \n",
      "p-value =  0.9416283551235602\n"
     ]
    }
   ],
   "source": [
    "p_value =  1- stats.chi2.cdf(Chisq(table),1)\n",
    "\n",
    "if p_value > 0.05:\n",
    "    print('Не можем отвергнуть нулевую гипотезу о том, что доли не имеют значимого различия', '\\nХи-квадрат критерий=',Chisq(table),'\\np-value = ',p_value)\n",
    "else:\n",
    "    print('Не можем принять нулевую гипотезу о том, что доли не имеют значимого различия','\\nХи-квадрат критерий=',Chisq(table),'\\np-value = ',p_value)"
   ]
  },
  {
   "cell_type": "code",
   "execution_count": 14,
   "id": "c0b13d1e",
   "metadata": {},
   "outputs": [
    {
     "data": {
      "text/plain": [
       "(0.005361664602799366,\n",
       " 0.9416283551235602,\n",
       " 1,\n",
       " array([[187.99734748, 190.00265252],\n",
       "        [187.00265252, 188.99734748]]))"
      ]
     },
     "execution_count": 14,
     "metadata": {},
     "output_type": "execute_result"
    }
   ],
   "source": [
    "stats.chi2_contingency(table1)\n",
    "# Статистика теста, p_value, Степени свободы, Ожидаемые частоты, основанные на предельных суммах таблицы."
   ]
  },
  {
   "cell_type": "markdown",
   "id": "4f478426",
   "metadata": {},
   "source": [
    "# Множественные сравнения. Поправки "
   ]
  },
  {
   "cell_type": "markdown",
   "id": "46a6f0b8",
   "metadata": {},
   "source": [
    "Множественные сравнения возникают, когда необходимо на одной и той же выборке параллельно проверить ряд статистических гипотез.\n",
    "Например, у нас есть сразу два новых варианта нового дизайна главной страницы оформления заказа, и нам надо не только сроавнить их между собой, но и понять выигрывает ли какой-либо из них у уже существующего варианта и различаются ли они между собой.\n",
    "Основная проблема при множественном сравнении это оценить результат, так как это становится не так просто и очевидно, как в случае с двумя выборками"
   ]
  },
  {
   "cell_type": "markdown",
   "id": "7bb482c0",
   "metadata": {},
   "source": [
    "Самая очевидная и простая <span class=\"burk\">проблема</span>: если в тесте кроме контрольной группы есть несколько экспериментальных, то подведение итогов с уровнем значимости 0.05 приведёт к кратному росту доли <span class=\"burk\">ошибок первого рода</span>. (Ошибка первого рода происходит, если мы фиксируем разницу между группами, хотя на самом деле её нет. )\n",
    "\n",
    "Так происходит, потому что при каждом применении статистического критерия вероятность ошибки первого рода будет 5%. При количестве групп $ngroups$ и уровне значимости $\\alpha$ вероятность, что какая-то экспериментальная группа выиграет случайно, составляет:\n",
    "\n",
    "$P(any\\ false\\ positive) = 1 − (1 − \\alpha) ^ {ngroups}$\n",
    "\n",
    "Например, для трёх экспериментальных групп получим 14.3% вместо ожидаемых 5%.\n",
    "\n",
    "Чтобы это избежать, вводим поправки.\n"
   ]
  },
  {
   "cell_type": "markdown",
   "id": "6beac2a7",
   "metadata": {},
   "source": [
    "## Критерий Стьюдента для множественных сравнений\n",
    "### Поправка Бонферрони"
   ]
  },
  {
   "cell_type": "markdown",
   "id": "c8814971",
   "metadata": {},
   "source": [
    "С критерием Стьюдента мы отлично знакомы и знаем, что он прекрасно умеет сравнивать средние значения двух групп, но что, если групп у нас куда больше? Начнем с трех, которые обсудили выше. \n",
    "\n",
    "<span class=\"birk\">Тест:</span> Мы имеем значения конверсий в заказ в трех разных группах с разным дизайном экрана оформления заказа"
   ]
  },
  {
   "cell_type": "code",
   "execution_count": 70,
   "id": "decd7134",
   "metadata": {},
   "outputs": [],
   "source": [
    "data = pd.read_csv('test_1.csv')"
   ]
  },
  {
   "cell_type": "code",
   "execution_count": 71,
   "id": "aba91cf6",
   "metadata": {},
   "outputs": [
    {
     "data": {
      "text/html": [
       "<div>\n",
       "<style scoped>\n",
       "    .dataframe tbody tr th:only-of-type {\n",
       "        vertical-align: middle;\n",
       "    }\n",
       "\n",
       "    .dataframe tbody tr th {\n",
       "        vertical-align: top;\n",
       "    }\n",
       "\n",
       "    .dataframe thead th {\n",
       "        text-align: right;\n",
       "    }\n",
       "</style>\n",
       "<table border=\"1\" class=\"dataframe\">\n",
       "  <thead>\n",
       "    <tr style=\"text-align: right;\">\n",
       "      <th></th>\n",
       "      <th>Unnamed: 0</th>\n",
       "      <th>a_v2o</th>\n",
       "      <th>b_v2o</th>\n",
       "      <th>c_v2o</th>\n",
       "    </tr>\n",
       "  </thead>\n",
       "  <tbody>\n",
       "    <tr>\n",
       "      <th>0</th>\n",
       "      <td>0</td>\n",
       "      <td>0.321184</td>\n",
       "      <td>0.189354</td>\n",
       "      <td>0.420514</td>\n",
       "    </tr>\n",
       "    <tr>\n",
       "      <th>1</th>\n",
       "      <td>1</td>\n",
       "      <td>0.281803</td>\n",
       "      <td>0.240561</td>\n",
       "      <td>0.202318</td>\n",
       "    </tr>\n",
       "    <tr>\n",
       "      <th>2</th>\n",
       "      <td>2</td>\n",
       "      <td>0.236880</td>\n",
       "      <td>0.458195</td>\n",
       "      <td>0.527577</td>\n",
       "    </tr>\n",
       "    <tr>\n",
       "      <th>3</th>\n",
       "      <td>3</td>\n",
       "      <td>0.475370</td>\n",
       "      <td>0.129800</td>\n",
       "      <td>0.384633</td>\n",
       "    </tr>\n",
       "    <tr>\n",
       "      <th>4</th>\n",
       "      <td>4</td>\n",
       "      <td>0.456154</td>\n",
       "      <td>0.224778</td>\n",
       "      <td>0.425273</td>\n",
       "    </tr>\n",
       "  </tbody>\n",
       "</table>\n",
       "</div>"
      ],
      "text/plain": [
       "   Unnamed: 0     a_v2o     b_v2o     c_v2o\n",
       "0           0  0.321184  0.189354  0.420514\n",
       "1           1  0.281803  0.240561  0.202318\n",
       "2           2  0.236880  0.458195  0.527577\n",
       "3           3  0.475370  0.129800  0.384633\n",
       "4           4  0.456154  0.224778  0.425273"
      ]
     },
     "execution_count": 71,
     "metadata": {},
     "output_type": "execute_result"
    }
   ],
   "source": [
    "data.head()"
   ]
  },
  {
   "cell_type": "code",
   "execution_count": 72,
   "id": "59811d8c",
   "metadata": {},
   "outputs": [
    {
     "name": "stderr",
     "output_type": "stream",
     "text": [
      "C:\\Users\\m.pashentseva\\Anaconda3\\lib\\site-packages\\seaborn\\distributions.py:2557: FutureWarning: `distplot` is a deprecated function and will be removed in a future version. Please adapt your code to use either `displot` (a figure-level function with similar flexibility) or `histplot` (an axes-level function for histograms).\n",
      "  warnings.warn(msg, FutureWarning)\n"
     ]
    },
    {
     "data": {
      "text/plain": [
       "<AxesSubplot:xlabel='c_v2o'>"
      ]
     },
     "execution_count": 72,
     "metadata": {},
     "output_type": "execute_result"
    },
    {
     "data": {
      "image/png": "[encoded data removed]",
      "text/plain": [
       "<Figure size 864x936 with 3 Axes>"
      ]
     },
     "metadata": {
      "needs_background": "light"
     },
     "output_type": "display_data"
    }
   ],
   "source": [
    "fig, (ax1, ax2, ax3) = plt.subplots(3, 1, sharex=True,figsize=(12,13))\n",
    "\n",
    "sns.distplot(data['a_v2o'],color = 'pink',hist = True, kde = False,ax = ax1)\n",
    "\n",
    "sns.distplot(data['b_v2o'],color = 'cyan',hist = True, kde = False,ax=ax2)\n",
    "\n",
    "sns.distplot(data['c_v2o'],color = 'purple',hist = True, kde = False,ax=ax3)"
   ]
  },
  {
   "cell_type": "markdown",
   "id": "66a9095f",
   "metadata": {},
   "source": [
    "Критерий Стьюдента для множественного сравнений основан на использовании поправок на множественные сравнения, например, одна из самых знаменитых, обсуждаемых и многими критикуемая - <span class=\"pirk\">поправка Бонферрони</span>.Суть которого в целом очень проста, мы отвергаем нулевую гипотезу только тогда, когда p-value < $\\alpha$/n, где n - количество сравнений, которые мы произведем в нашем эксперименте."
   ]
  },
  {
   "cell_type": "markdown",
   "id": "9b6ba3d1",
   "metadata": {},
   "source": [
    "**Поправка Бонферрони** \n",
    "* Если мы хотим обеспечить вероятность ошибки $\\alpha$, то в каждом из сравнений мы должны принять уровень значимости  $\\alpha /n$ - это и есть поправка Бонферрони (<span class=\"girk\">n - число сравнений</span>). Понятно, что такое уменьшение в несколько раз значимости делает тест достаточно \"жестким\" с ростом числа сравнений, установить различия становится достаточно трудно.\n"
   ]
  },
  {
   "cell_type": "markdown",
   "id": "ff47c3ce",
   "metadata": {},
   "source": [
    "<span class=\"birk\">Тест:</span> Итак, мы сравниваем 3 группы, значит нам потребуется сделать 3 сравнения\n",
    "* контрольная vs test1\n",
    "* контрольная vs test2\n",
    "* test1 vs test 2"
   ]
  },
  {
   "cell_type": "markdown",
   "id": "0bb70264",
   "metadata": {},
   "source": [
    "Таким образом, поправка Бонферрони говорит, что принимать решение о статистической значимости при изначально заданном уровне значимости 0.05 стоит только тогда, когда p-value < 0.05/3"
   ]
  },
  {
   "cell_type": "markdown",
   "id": "a08b1a92",
   "metadata": {},
   "source": [
    "Таким образом, алгоритм наших действий:\n",
    "* 1) сравниваем варианты попарно;\n",
    "* 2) принимаем решение, учитывая поправку Бонферрони"
   ]
  },
  {
   "cell_type": "markdown",
   "id": "d07c74b0",
   "metadata": {},
   "source": [
    "**Критерий Стьюдента мы рассчитываем умеем**"
   ]
  },
  {
   "cell_type": "code",
   "execution_count": 74,
   "id": "3e1daed7",
   "metadata": {},
   "outputs": [],
   "source": [
    "def ttest(a,b):\n",
    "    mean_diff = np.mean(a) - np.mean(b)\n",
    "    n1 = len(a)\n",
    "    n2 = len(b)\n",
    "    sd_a = np.sqrt(np.var(a,ddof = 1))\n",
    "    sd_b = np.sqrt(np.var(b,ddof = 1))\n",
    "    sem = np.sqrt(sd_a**2/n1 + sd_b**2/n2)\n",
    "    t = mean_diff/sem\n",
    "    df = (n1 + n2) - 2\n",
    "    p = stats.t.cdf(-abs(t), df)  \n",
    "    if p > 0.05/3:\n",
    "        print('Нет статистически значимой разницы','\\nt - критерий = ',t,'\\np-value =',p)\n",
    "    else:\n",
    "        print('Есть статистически значимая разница','\\nt - критерий = ',t,'\\np-value =',p)\n",
    " \n",
    "    return "
   ]
  },
  {
   "cell_type": "markdown",
   "id": "875fef08",
   "metadata": {},
   "source": [
    "* сравниваем контрольную и первую тестовую группу"
   ]
  },
  {
   "cell_type": "code",
   "execution_count": 75,
   "id": "baa5e762",
   "metadata": {},
   "outputs": [
    {
     "name": "stdout",
     "output_type": "stream",
     "text": [
      "Нет статистически значимой разницы \n",
      "t - критерий =  1.8864697433556141 \n",
      "p-value = 0.029688288959205368\n"
     ]
    }
   ],
   "source": [
    "ttest(data['a_v2o'],data['b_v2o'])"
   ]
  },
  {
   "cell_type": "markdown",
   "id": "2e609fb3",
   "metadata": {},
   "source": [
    "* контрольную и вторую тестовую группу"
   ]
  },
  {
   "cell_type": "code",
   "execution_count": 76,
   "id": "2c84a32e",
   "metadata": {},
   "outputs": [
    {
     "name": "stdout",
     "output_type": "stream",
     "text": [
      "Есть статистически значимая разница \n",
      "t - критерий =  -21.97017355857898 \n",
      "p-value = 2.6444726659806283e-96\n"
     ]
    }
   ],
   "source": [
    "ttest(data['a_v2o'],data['c_v2o'])"
   ]
  },
  {
   "cell_type": "markdown",
   "id": "24d14122",
   "metadata": {},
   "source": [
    "* первую и вторую тестовую"
   ]
  },
  {
   "cell_type": "code",
   "execution_count": 77,
   "id": "4d5023e7",
   "metadata": {},
   "outputs": [
    {
     "name": "stdout",
     "output_type": "stream",
     "text": [
      "Есть статистически значимая разница \n",
      "t - критерий =  -22.887022877809798 \n",
      "p-value = 1.880349524646204e-103\n"
     ]
    }
   ],
   "source": [
    "ttest(data['b_v2o'],data['c_v2o'])"
   ]
  },
  {
   "cell_type": "markdown",
   "id": "a67808df",
   "metadata": {},
   "source": [
    " Мы получили результат, что контрольная и первая тестовая группа не имеют значимых различичий и вторая тестовая группа значимо отличается от контрольной и первой тестовой группы"
   ]
  },
  {
   "cell_type": "markdown",
   "id": "604c71b7",
   "metadata": {},
   "source": [
    "Интуитивная простота - это главный плюс поправки Бонферрони, однако представьте, что у вас не 3 группы, а 30, и вам надо будет брать уровень значимости равный 0.05/435\n",
    "* (n * (n-1))/2  (формула чтобы рассчитать сколько надо будет сравнений на всякий случай)"
   ]
  },
  {
   "cell_type": "markdown",
   "id": "63152aab",
   "metadata": {},
   "source": [
    "Поправка Бонферрони подвергается критике именно из-за этого: при большом количестве сравнений мы не будем находить значимых различий практически никогда из-за того что наш уровень значимости ставновится очень мал.\n"
   ]
  },
  {
   "cell_type": "markdown",
   "id": "3e1e7e3e",
   "metadata": {},
   "source": [
    "### Метод Холма - Бонферрони (метод Холма)"
   ]
  },
  {
   "cell_type": "markdown",
   "id": "f43ac482",
   "metadata": {},
   "source": [
    " <span class=\"pirk\">Метод Холма - Бонферрони</span> - также называемый методом Холма,используется для борьбы с проблемой множественных сравнений. Является модификацией поправки Бонферрони и позволяет решать проблему уменьшения мощности при большом количестве сравнений."
   ]
  },
  {
   "cell_type": "markdown",
   "id": "1ba7f1f8",
   "metadata": {},
   "source": [
    "Формула для определения уровня значимости"
   ]
  },
  {
   "cell_type": "markdown",
   "id": "93e5275a",
   "metadata": {},
   "source": [
    "![hb](https://www.statisticshowto.com/wp-content/uploads/2016/09/holm-bonferroni-2-1.png)"
   ]
  },
  {
   "cell_type": "markdown",
   "id": "4acb8610",
   "metadata": {},
   "source": [
    "* **target alpa level** - наш изначальный уровень значимости,заданный нами (0.05 например);\n",
    "* **n** - количество сравнений\n",
    "* **rank number of pair** - номер полученного p-value при сортировке от большего к меньшему"
   ]
  },
  {
   "cell_type": "markdown",
   "id": "cef84dd9",
   "metadata": {},
   "source": [
    "Возьмем прошлый пример "
   ]
  },
  {
   "cell_type": "code",
   "execution_count": 81,
   "id": "14f753f3",
   "metadata": {},
   "outputs": [],
   "source": [
    "def ttest(a,b):\n",
    "    mean_diff = np.mean(a) - np.mean(b)\n",
    "    n1 = len(a)\n",
    "    n2 = len(b)\n",
    "    sd_a = np.sqrt(np.var(a,ddof = 1))\n",
    "    sd_b = np.sqrt(np.var(b,ddof = 1))\n",
    "    sem = np.sqrt(sd_a**2/n1 + sd_b**2/n2)\n",
    "    t = mean_diff/sem\n",
    "    df = (n1 + n2) - 2\n",
    "    return stats.t.cdf(-abs(t), df)  "
   ]
  },
  {
   "cell_type": "markdown",
   "id": "67c79125",
   "metadata": {},
   "source": [
    "Получим список результатов попарного сравнений наших выборок (список p-value):"
   ]
  },
  {
   "cell_type": "code",
   "execution_count": 82,
   "id": "3f9c45b4",
   "metadata": {},
   "outputs": [],
   "source": [
    "values = [ttest(data['a_v2o'],data['b_v2o']),ttest(data['a_v2o'],data['c_v2o']),ttest(data['b_v2o'],data['c_v2o'])]"
   ]
  },
  {
   "cell_type": "markdown",
   "id": "88fe46e2",
   "metadata": {},
   "source": [
    " Отсортируем от наименьшего к большему"
   ]
  },
  {
   "cell_type": "code",
   "execution_count": 83,
   "id": "f28026cf",
   "metadata": {},
   "outputs": [],
   "source": [
    "sort_values = sorted(values)"
   ]
  },
  {
   "cell_type": "markdown",
   "id": "482ffa5e",
   "metadata": {},
   "source": [
    "Скорректируем наш уровень значимости по формуле,представленной выше"
   ]
  },
  {
   "cell_type": "code",
   "execution_count": 85,
   "id": "20ed87b2",
   "metadata": {},
   "outputs": [],
   "source": [
    "def Holm_Bonferroni(data):\n",
    "    for i in data: #p_value\n",
    "        if i < 0.05/(len(data) - (data.index(i) + 1) + 1): #поправка Холма - Бонферрони\n",
    "            print ('Не можем  принять гипотезу H0','\\ncorrected_p_value=',i/(len(data) - (data.index(i) + 1) + 1))\n",
    "        else:\n",
    "            print('Не можем отклонить гипотезу H0','\\ncorrected_p_value=',i/(len(data) - (data.index(i) + 1) + 1))"
   ]
  },
  {
   "cell_type": "code",
   "execution_count": 86,
   "id": "ad15c3e1",
   "metadata": {},
   "outputs": [
    {
     "name": "stdout",
     "output_type": "stream",
     "text": [
      "Не можем  принять гипотезу H0 \n",
      "corrected_p_value= 6.26783174882068e-104\n",
      "Не можем  принять гипотезу H0 \n",
      "corrected_p_value= 1.3222363329903142e-96\n",
      "Не можем  принять гипотезу H0 \n",
      "corrected_p_value= 0.029688288959205368\n"
     ]
    }
   ],
   "source": [
    "Holm_Bonferroni(sort_values)"
   ]
  },
  {
   "cell_type": "markdown",
   "id": "53632abd",
   "metadata": {},
   "source": [
    "##  Критерий Крускала-Уоллиса"
   ]
  },
  {
   "cell_type": "markdown",
   "id": "42ff5d60",
   "metadata": {},
   "source": [
    "**Критерий Крускала-Уоллиса** - непараметрический критерий, который предназначен для проверки равенства медиан нескольких выборок. Данный критерий является многомерным обобщением критерия Уилкоксона — Манна — Уитни.\n",
    "\n",
    "Он используется для сравнения трех или более выборок, и проверяет нулевые гипотезы, согласно которым различные выборки были взяты из одного и того же распределения, или из распределений с одинаковыми медианами.\n",
    "\n",
    "Расчет статистики Крускала-Уоллиса напоминает расчет статистики Манна-Уитни\n",
    "\n",
    "* 1) Сначала все значения, независимо от того к какой выборке они относятся упорядочивают по возрастанию, как если бы это была одна выборка. Затем каждому значению присваивают ранг. Максимальное значение имеет  ранг = 1 и так далее.\n",
    "* 2) затем рассчитываем тестовую статистику критерия Крускала-Уоллиса по формуле:\n",
    "\n",
    "![ku](http://statistica.ru/upload/medialibrary/394/H.png)\n",
    "\n",
    "где:\n",
    "* **N** - общее количество значений суммарно;\n",
    "* **R** - ранговая сумма;\n",
    "* **$n_i$** - общее количество значений в выборке\n",
    "\n",
    "Если число наблюдений велико, то итоговую статистику H сравнивают с критическим значением распределением <span class=\"burk\">Хи-квадрат</span>"
   ]
  },
  {
   "cell_type": "markdown",
   "id": "9065d1a3",
   "metadata": {},
   "source": [
    "<span class=\"birk\">Тест</span>: Мы узнали, что пуши оказали значимое влияние на чек покупателя. Но нам этого мало. Мы решили использовать всю свою мощь и начать СПАМИТЬ НА ПОЧТУ. И хотим сравнивать что сильнее сподвигнет на покупку (или добьет) наших клиентов. "
   ]
  },
  {
   "cell_type": "markdown",
   "id": "1268bbca",
   "metadata": {},
   "source": [
    "Вычислим ранги"
   ]
  },
  {
   "cell_type": "code",
   "execution_count": 87,
   "id": "d61b7bbc",
   "metadata": {},
   "outputs": [],
   "source": [
    "df = pd.read_csv('test_KU.csv')"
   ]
  },
  {
   "cell_type": "code",
   "execution_count": 88,
   "id": "d02fe923",
   "metadata": {},
   "outputs": [],
   "source": [
    "df = df[['sum1','sum2','sum3']]"
   ]
  },
  {
   "cell_type": "code",
   "execution_count": 89,
   "id": "e678f2c6",
   "metadata": {},
   "outputs": [
    {
     "data": {
      "text/html": [
       "<div>\n",
       "<style scoped>\n",
       "    .dataframe tbody tr th:only-of-type {\n",
       "        vertical-align: middle;\n",
       "    }\n",
       "\n",
       "    .dataframe tbody tr th {\n",
       "        vertical-align: top;\n",
       "    }\n",
       "\n",
       "    .dataframe thead th {\n",
       "        text-align: right;\n",
       "    }\n",
       "</style>\n",
       "<table border=\"1\" class=\"dataframe\">\n",
       "  <thead>\n",
       "    <tr style=\"text-align: right;\">\n",
       "      <th></th>\n",
       "      <th>sum1</th>\n",
       "      <th>sum2</th>\n",
       "      <th>sum3</th>\n",
       "    </tr>\n",
       "  </thead>\n",
       "  <tbody>\n",
       "    <tr>\n",
       "      <th>0</th>\n",
       "      <td>10.938903</td>\n",
       "      <td>171.344986</td>\n",
       "      <td>171.136596</td>\n",
       "    </tr>\n",
       "    <tr>\n",
       "      <th>1</th>\n",
       "      <td>306.549486</td>\n",
       "      <td>159.213640</td>\n",
       "      <td>194.462454</td>\n",
       "    </tr>\n",
       "    <tr>\n",
       "      <th>2</th>\n",
       "      <td>77.575940</td>\n",
       "      <td>341.870275</td>\n",
       "      <td>42.828167</td>\n",
       "    </tr>\n",
       "    <tr>\n",
       "      <th>3</th>\n",
       "      <td>45.305877</td>\n",
       "      <td>88.674428</td>\n",
       "      <td>113.464977</td>\n",
       "    </tr>\n",
       "    <tr>\n",
       "      <th>4</th>\n",
       "      <td>52.753691</td>\n",
       "      <td>14.768973</td>\n",
       "      <td>2.950922</td>\n",
       "    </tr>\n",
       "  </tbody>\n",
       "</table>\n",
       "</div>"
      ],
      "text/plain": [
       "         sum1        sum2        sum3\n",
       "0   10.938903  171.344986  171.136596\n",
       "1  306.549486  159.213640  194.462454\n",
       "2   77.575940  341.870275   42.828167\n",
       "3   45.305877   88.674428  113.464977\n",
       "4   52.753691   14.768973    2.950922"
      ]
     },
     "execution_count": 89,
     "metadata": {},
     "output_type": "execute_result"
    }
   ],
   "source": [
    "df.head()"
   ]
  },
  {
   "cell_type": "code",
   "execution_count": 90,
   "id": "517e1306",
   "metadata": {},
   "outputs": [
    {
     "name": "stderr",
     "output_type": "stream",
     "text": [
      "C:\\Users\\m.pashentseva\\Anaconda3\\lib\\site-packages\\seaborn\\distributions.py:2557: FutureWarning: `distplot` is a deprecated function and will be removed in a future version. Please adapt your code to use either `displot` (a figure-level function with similar flexibility) or `histplot` (an axes-level function for histograms).\n",
      "  warnings.warn(msg, FutureWarning)\n"
     ]
    },
    {
     "data": {
      "text/plain": [
       "<AxesSubplot:xlabel='sum3'>"
      ]
     },
     "execution_count": 90,
     "metadata": {},
     "output_type": "execute_result"
    },
    {
     "data": {
      "image/png": "[encoded data removed]",
      "text/plain": [
       "<Figure size 864x936 with 3 Axes>"
      ]
     },
     "metadata": {
      "needs_background": "light"
     },
     "output_type": "display_data"
    }
   ],
   "source": [
    "fig, (ax1, ax2, ax3) = plt.subplots(3, 1, sharex=True,figsize=(12,13))\n",
    "\n",
    "sns.distplot(df['sum1'],color = 'pink',hist = True, kde = False,ax = ax1)\n",
    "\n",
    "sns.distplot(df['sum2'],color = 'green',hist = True, kde = False,ax=ax2)\n",
    "\n",
    "sns.distplot(df['sum3'],color = 'coral',hist = True, kde = False,ax=ax3)"
   ]
  },
  {
   "cell_type": "code",
   "execution_count": 91,
   "id": "0595b475",
   "metadata": {},
   "outputs": [
    {
     "data": {
      "text/html": [
       "<div>\n",
       "<style scoped>\n",
       "    .dataframe tbody tr th:only-of-type {\n",
       "        vertical-align: middle;\n",
       "    }\n",
       "\n",
       "    .dataframe tbody tr th {\n",
       "        vertical-align: top;\n",
       "    }\n",
       "\n",
       "    .dataframe thead th {\n",
       "        text-align: right;\n",
       "    }\n",
       "</style>\n",
       "<table border=\"1\" class=\"dataframe\">\n",
       "  <thead>\n",
       "    <tr style=\"text-align: right;\">\n",
       "      <th></th>\n",
       "      <th>value</th>\n",
       "      <th>group</th>\n",
       "    </tr>\n",
       "  </thead>\n",
       "  <tbody>\n",
       "    <tr>\n",
       "      <th>0</th>\n",
       "      <td>10.938903</td>\n",
       "      <td>sum1</td>\n",
       "    </tr>\n",
       "    <tr>\n",
       "      <th>0</th>\n",
       "      <td>171.344986</td>\n",
       "      <td>sum2</td>\n",
       "    </tr>\n",
       "    <tr>\n",
       "      <th>0</th>\n",
       "      <td>171.136596</td>\n",
       "      <td>sum3</td>\n",
       "    </tr>\n",
       "    <tr>\n",
       "      <th>1</th>\n",
       "      <td>306.549486</td>\n",
       "      <td>sum1</td>\n",
       "    </tr>\n",
       "    <tr>\n",
       "      <th>1</th>\n",
       "      <td>159.213640</td>\n",
       "      <td>sum2</td>\n",
       "    </tr>\n",
       "    <tr>\n",
       "      <th>...</th>\n",
       "      <td>...</td>\n",
       "      <td>...</td>\n",
       "    </tr>\n",
       "    <tr>\n",
       "      <th>698</th>\n",
       "      <td>124.119214</td>\n",
       "      <td>sum2</td>\n",
       "    </tr>\n",
       "    <tr>\n",
       "      <th>698</th>\n",
       "      <td>271.311624</td>\n",
       "      <td>sum3</td>\n",
       "    </tr>\n",
       "    <tr>\n",
       "      <th>699</th>\n",
       "      <td>9.346199</td>\n",
       "      <td>sum1</td>\n",
       "    </tr>\n",
       "    <tr>\n",
       "      <th>699</th>\n",
       "      <td>115.657295</td>\n",
       "      <td>sum2</td>\n",
       "    </tr>\n",
       "    <tr>\n",
       "      <th>699</th>\n",
       "      <td>33.874238</td>\n",
       "      <td>sum3</td>\n",
       "    </tr>\n",
       "  </tbody>\n",
       "</table>\n",
       "<p>2100 rows × 2 columns</p>\n",
       "</div>"
      ],
      "text/plain": [
       "          value group\n",
       "0     10.938903  sum1\n",
       "0    171.344986  sum2\n",
       "0    171.136596  sum3\n",
       "1    306.549486  sum1\n",
       "1    159.213640  sum2\n",
       "..          ...   ...\n",
       "698  124.119214  sum2\n",
       "698  271.311624  sum3\n",
       "699    9.346199  sum1\n",
       "699  115.657295  sum2\n",
       "699   33.874238  sum3\n",
       "\n",
       "[2100 rows x 2 columns]"
      ]
     },
     "execution_count": 91,
     "metadata": {},
     "output_type": "execute_result"
    }
   ],
   "source": [
    "# собираем данные в одну выборку\n",
    "\n",
    "df1 = df.stack().reset_index(-1).iloc[:, ::-1]\n",
    "df1.columns = ['value', 'group']\n",
    "df1"
   ]
  },
  {
   "cell_type": "code",
   "execution_count": 95,
   "id": "bd8d647c",
   "metadata": {},
   "outputs": [],
   "source": [
    "# расставляем ранги (номера в общей выборке, отсортированной в порядке убывания)\n",
    "df1['rank'] = df1['value'].rank(ascending = False, numeric_only = True)"
   ]
  },
  {
   "cell_type": "code",
   "execution_count": 96,
   "id": "fffd1807",
   "metadata": {},
   "outputs": [
    {
     "data": {
      "text/html": [
       "<div>\n",
       "<style scoped>\n",
       "    .dataframe tbody tr th:only-of-type {\n",
       "        vertical-align: middle;\n",
       "    }\n",
       "\n",
       "    .dataframe tbody tr th {\n",
       "        vertical-align: top;\n",
       "    }\n",
       "\n",
       "    .dataframe thead th {\n",
       "        text-align: right;\n",
       "    }\n",
       "</style>\n",
       "<table border=\"1\" class=\"dataframe\">\n",
       "  <thead>\n",
       "    <tr style=\"text-align: right;\">\n",
       "      <th></th>\n",
       "      <th>value</th>\n",
       "      <th>group</th>\n",
       "      <th>rank</th>\n",
       "    </tr>\n",
       "  </thead>\n",
       "  <tbody>\n",
       "    <tr>\n",
       "      <th>0</th>\n",
       "      <td>10.938903</td>\n",
       "      <td>sum1</td>\n",
       "      <td>1912.0</td>\n",
       "    </tr>\n",
       "    <tr>\n",
       "      <th>0</th>\n",
       "      <td>171.344986</td>\n",
       "      <td>sum2</td>\n",
       "      <td>470.0</td>\n",
       "    </tr>\n",
       "    <tr>\n",
       "      <th>0</th>\n",
       "      <td>171.136596</td>\n",
       "      <td>sum3</td>\n",
       "      <td>471.0</td>\n",
       "    </tr>\n",
       "    <tr>\n",
       "      <th>1</th>\n",
       "      <td>306.549486</td>\n",
       "      <td>sum1</td>\n",
       "      <td>128.0</td>\n",
       "    </tr>\n",
       "    <tr>\n",
       "      <th>1</th>\n",
       "      <td>159.213640</td>\n",
       "      <td>sum2</td>\n",
       "      <td>536.0</td>\n",
       "    </tr>\n",
       "  </tbody>\n",
       "</table>\n",
       "</div>"
      ],
      "text/plain": [
       "        value group    rank\n",
       "0   10.938903  sum1  1912.0\n",
       "0  171.344986  sum2   470.0\n",
       "0  171.136596  sum3   471.0\n",
       "1  306.549486  sum1   128.0\n",
       "1  159.213640  sum2   536.0"
      ]
     },
     "execution_count": 96,
     "metadata": {},
     "output_type": "execute_result"
    }
   ],
   "source": [
    "df1.head()"
   ]
  },
  {
   "cell_type": "markdown",
   "id": "74dfce3c",
   "metadata": {},
   "source": [
    "Вычислим сумму рангов"
   ]
  },
  {
   "cell_type": "code",
   "execution_count": 97,
   "id": "6aef6483",
   "metadata": {},
   "outputs": [
    {
     "data": {
      "text/plain": [
       "group\n",
       "sum1    772502.0\n",
       "sum2    700275.0\n",
       "sum3    733273.0\n",
       "Name: rank, dtype: float64"
      ]
     },
     "execution_count": 97,
     "metadata": {},
     "output_type": "execute_result"
    }
   ],
   "source": [
    "df1.groupby('group')['rank'].sum()"
   ]
  },
  {
   "cell_type": "code",
   "execution_count": 98,
   "id": "a7e396b8",
   "metadata": {},
   "outputs": [],
   "source": [
    "# делим обратно на 3 выборки\n",
    "a = df1[df1['group'] == 'sum1']['value']\n",
    "b = df1[df1['group'] == 'sum2']['value']\n",
    "c = df1[df1['group'] == 'sum3']['value']\n",
    "rank_a = df1[df1['group'] == 'sum1']['rank'].sum()\n",
    "rank_b = df1[df1['group'] == 'sum2']['rank'].sum()\n",
    "rank_c = df1[df1['group'] == 'sum3']['rank'].sum()"
   ]
  },
  {
   "cell_type": "markdown",
   "id": "f0501783",
   "metadata": {},
   "source": [
    "Вычисляем по формуле:\n",
    "\n",
    "![ku](http://statistica.ru/upload/medialibrary/394/H.png)"
   ]
  },
  {
   "cell_type": "code",
   "execution_count": 100,
   "id": "dc9b8b58",
   "metadata": {},
   "outputs": [],
   "source": [
    "def H(a,b,c,rank_a,rank_b,rank_c,N):\n",
    "    h1 = (rank_a)**2/len(a)\n",
    "    h2 = (rank_b)**2/len(b)\n",
    "    h3 = (rank_c)**2/len(c)\n",
    "    sums = h1 + h2 + h3\n",
    "    H = 12.0/ (N * (N + 1)) * sums - 3 * (N + 1)\n",
    "    df = 3 - 1\n",
    "    p = 1 - stats.chi2.cdf(H,df)\n",
    "    if p < 0.05:\n",
    "        print('Не можем отклонить гипотезу H0','\\np-value=',p,'\\nH-статистика = ',H)\n",
    "    else:\n",
    "        print('Не можем принять гипотезу H0','\\np-value=',p,'\\nH-статистика = ',H)\n",
    "    "
   ]
  },
  {
   "cell_type": "code",
   "execution_count": 101,
   "id": "af51380e",
   "metadata": {},
   "outputs": [
    {
     "name": "stdout",
     "output_type": "stream",
     "text": [
      "Не можем отклонить гипотезу H0 \n",
      "p-value= 0.006220681705575104 \n",
      "H-статистика =  10.159751558539028\n"
     ]
    }
   ],
   "source": [
    "H(a,b,c,rank_a,rank_b,rank_c,len(df1))"
   ]
  },
  {
   "cell_type": "code",
   "execution_count": 102,
   "id": "29c12a89",
   "metadata": {},
   "outputs": [
    {
     "data": {
      "text/plain": [
       "KruskalResult(statistic=10.159751558539028, pvalue=0.006220681705575132)"
      ]
     },
     "execution_count": 102,
     "metadata": {},
     "output_type": "execute_result"
    }
   ],
   "source": [
    "# Тоже самое с помощью Питона:\n",
    "stats.kruskal(a,b,c)"
   ]
  },
  {
   "cell_type": "markdown",
   "id": "604bcf95",
   "metadata": {},
   "source": [
    "# Полезные ссылки\n",
    "\n",
    "Биномиальное распредленеие\n",
    "http://statistica.ru/theory/binomialnoe-raspredelenie/\n",
    "\n",
    "Про z-тест и p-value\n",
    "https://habr.com/ru/post/557424/\n",
    "\n",
    "Немного про z-оценку и что она означает\n",
    "https://desktop.arcgis.com/ru/arcmap/10.3/tools/spatial-statistics-toolbox/what-is-a-z-score-what-is-a-p-value.htm\n",
    "\n",
    "Про критическую область\n",
    "http://statistica.ru/theory/proverka-gipotez/\n",
    "\n",
    "Лекция из МФТИ о тесте Манна-Уитни\n",
    "https://www.youtube.com/watch?v=esw61CSmjMI\n",
    "\n",
    "Лекция, где простым языком объясняют о сути непараметрических тестов\n",
    "https://www.youtube.com/watch?v=IcLSKko2tsg\n",
    "\n",
    "Карта статистических методов - bootstrap VS t - test\n",
    "https://www.youtube.com/watch?v=-zps6hm0nX8\n",
    "\n",
    "Practitioner’s Guide to Statistical Tests от VK\n",
    "https://vkteam.medium.com/practitioners-guide-to-statistical-tests-ed2d580ef04f\n",
    "\n",
    "Как улучшить ваши A/B-тесты: лайфхаки аналитиков Авито. Часть 1 и 2:\n",
    "https://habr.com/ru/company/avito/blog/571094/\n",
    "https://habr.com/ru/company/avito/blog/571096/\n",
    "\n",
    "Множественные эксперименты: теория и практика:\n",
    "https://habr.com/ru/company/yandex/blog/476826/\n",
    "\n",
    "На что мы обращаем внимание при расчете статистической значимости A/B-теста:\n",
    "https://habr.com/ru/company/uchi_ru/blog/500918/\n",
    "\n",
    "\n",
    "Проверка статистических гипотез:\n",
    "https://habr.com/ru/post/578754/\n",
    "\n",
    "Таблица сопряженности:\n",
    "https://ru.wikipedia.org/wiki/%D0%A2%D0%B0%D0%B1%D0%BB%D0%B8%D1%86%D0%B0_%D1%81%D0%BE%D0%BF%D1%80%D1%8F%D0%B6%D1%91%D0%BD%D0%BD%D0%BE%D1%81%D1%82%D0%B8\n",
    "\n"
   ]
  },
  {
   "cell_type": "code",
   "execution_count": null,
   "id": "0b11f98b",
   "metadata": {},
   "outputs": [],
   "source": []
  }
 ],
 "metadata": {
  "celltoolbar": "Необработанный формат ячейки",
  "hide_input": false,
  "kernelspec": {
   "display_name": "Python 3",
   "language": "python",
   "name": "python3"
  },
  "language_info": {
   "codemirror_mode": {
    "name": "ipython",
    "version": 3
   },
   "file_extension": ".py",
   "mimetype": "text/x-python",
   "name": "python",
   "nbconvert_exporter": "python",
   "pygments_lexer": "ipython3",
   "version": "3.8.8"
  },
  "latex_envs": {
   "LaTeX_envs_menu_present": true,
   "autoclose": true,
   "autocomplete": true,
   "bibliofile": "biblio.bib",
   "cite_by": "apalike",
   "current_citInitial": 1,
   "eqLabelWithNumbers": true,
   "eqNumInitial": 1,
   "hotkeys": {
    "equation": "Ctrl-E",
    "itemize": "Ctrl-I"
   },
   "labels_anchors": false,
   "latex_user_defs": false,
   "report_style_numbering": false,
   "user_envs_cfg": false
  },
  "toc": {
   "base_numbering": 1,
   "nav_menu": {},
   "number_sections": true,
   "sideBar": true,
   "skip_h1_title": false,
   "title_cell": "Table of Contents",
   "title_sidebar": "Contents",
   "toc_cell": false,
   "toc_position": {
    "height": "calc(100% - 180px)",
    "left": "10px",
    "top": "150px",
    "width": "165px"
   },
   "toc_section_display": true,
   "toc_window_display": true
  },
  "varInspector": {
   "cols": {
    "lenName": 16,
    "lenType": 16,
    "lenVar": 40
   },
   "kernels_config": {
    "python": {
     "delete_cmd_postfix": "",
     "delete_cmd_prefix": "del ",
     "library": "var_list.py",
     "varRefreshCmd": "print(var_dic_list())"
    },
    "r": {
     "delete_cmd_postfix": ") ",
     "delete_cmd_prefix": "rm(",
     "library": "var_list.r",
     "varRefreshCmd": "cat(var_dic_list()) "
    }
   },
   "types_to_exclude": [
    "module",
    "function",
    "builtin_function_or_method",
    "instance",
    "_Feature"
   ],
   "window_display": false
  }
 },
 "nbformat": 4,
 "nbformat_minor": 5
}
